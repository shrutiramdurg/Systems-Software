{
  "nbformat": 4,
  "nbformat_minor": 0,
  "metadata": {
    "colab": {
      "provenance": [],
      "include_colab_link": true
    },
    "kernelspec": {
      "name": "python3",
      "display_name": "Python 3"
    },
    "language_info": {
      "name": "python"
    }
  },
  "cells": [
    {
      "cell_type": "markdown",
      "metadata": {
        "id": "view-in-github",
        "colab_type": "text"
      },
      "source": [
        "<a href=\"https://colab.research.google.com/github/shrutiramdurg/Systems-Software/blob/main/LEX_and_YACC_Compiler.ipynb\" target=\"_parent\"><img src=\"https://colab.research.google.com/assets/colab-badge.svg\" alt=\"Open In Colab\"/></a>"
      ]
    },
    {
      "cell_type": "markdown",
      "source": [
        "# LEX and YACC Compiler in Colab\n",
        "\n",
        "Drawbacks:\n",
        "* Regular interrupts (Ctrl+D, Ctrl+C) for shell won't work in Colab while inputting for program.\n",
        "<br>Workaround: Store your inputs in a txt file and pass it to the program."
      ],
      "metadata": {
        "id": "Az09-x9PnHPq"
      }
    },
    {
      "cell_type": "code",
      "source": [
        "#@title Install *prerqeuisites* (run this cell first to work on LEX/YACC)\n",
        "!sudo apt install flex bison"
      ],
      "metadata": {
        "cellView": "form",
        "id": "CM_9N3RogX8y"
      },
      "execution_count": null,
      "outputs": []
    },
    {
      "cell_type": "markdown",
      "source": [
        "## Lex only"
      ],
      "metadata": {
        "id": "0IYbRG4He38g"
      }
    },
    {
      "cell_type": "code",
      "execution_count": null,
      "metadata": {
        "colab": {
          "base_uri": "https://localhost:8080/"
        },
        "id": "Jyt0i_pTexWf",
        "outputId": "4081e93e-a1e8-4033-93d1-ff3abaeb080a"
      },
      "outputs": [
        {
          "output_type": "stream",
          "name": "stdout",
          "text": [
            "Overwriting program.l\n"
          ]
        }
      ],
      "source": [
        "#@title Writing Lex program\n",
        "%%writefile program.l\n",
        "\n",
        "%{\n",
        "    #include <stdio.h>\n",
        "    int ctChar=0;\n",
        "    int ctSpace=0;\n",
        "    int ctWord=0;\n",
        "    int ctLine=0;\n",
        "%}\n",
        "WORD [^ \\t\\n,\\.:]+\n",
        "EOL [\\n]\n",
        "BLANK [ ]\n",
        "%%\n",
        "\n",
        "{WORD} {ctWord++; ctChar+=yyleng;}\n",
        "{BLANK} {ctSpace++;}\n",
        "{EOL} {ctLine++;}\n",
        ". {ctChar++;}\n",
        "%%\n",
        "\n",
        "void main(int argc, char *argv[]){\n",
        "    if(argc!=2){\n",
        "        printf(\"Usage:\\n\\t./a.out <FILENAME>\\n\");\n",
        "        exit(0);\n",
        "    }\n",
        "\n",
        "    yyin=fopen(argv[1],\"r\");\n",
        "    yylex();\n",
        "\n",
        "    printf(\"Word Count: %d\\n\",ctWord);\n",
        "    printf(\"Character Count: %d\\n\",ctChar);\n",
        "    printf(\"Space Count: %d\\n\",ctSpace);\n",
        "    printf(\"Line Count: %d\\n\",ctLine);\n",
        "    fclose(yyin);\n",
        "\n",
        "}\n",
        "\n",
        "int yywrap(){\n",
        "    return 1;\n",
        "}"
      ]
    },
    {
      "cell_type": "markdown",
      "source": [
        "if you want to use at txt as an input"
      ],
      "metadata": {
        "id": "erI5UjQzg3Sy"
      }
    },
    {
      "cell_type": "code",
      "source": [
        "%%writefile program.txt\n",
        "\n",
        "This is a sample file."
      ],
      "metadata": {
        "colab": {
          "base_uri": "https://localhost:8080/"
        },
        "id": "MUUdcBtRgtjf",
        "outputId": "abb24576-792f-4d7b-defa-b9911fa1a067"
      },
      "execution_count": null,
      "outputs": [
        {
          "output_type": "stream",
          "name": "stdout",
          "text": [
            "Writing program.txt\n"
          ]
        }
      ]
    },
    {
      "cell_type": "code",
      "source": [
        "#@title Shell Execution (you can rewrite the commands as per your need, eg. if you want to include a file as an input)\n",
        "%%shell\n",
        "\n",
        "lex -l program.l\n",
        "gcc lex.yy.c\n",
        "./a.out program.txt"
      ],
      "metadata": {
        "colab": {
          "base_uri": "https://localhost:8080/"
        },
        "id": "tqpZgNYpe263",
        "outputId": "0356f4bf-537c-428e-ab32-765badfbb647"
      },
      "execution_count": null,
      "outputs": [
        {
          "output_type": "stream",
          "name": "stdout",
          "text": [
            "Word Count: 5\n",
            "Character Count: 18\n",
            "Space Count: 4\n",
            "Line Count: 2\n"
          ]
        },
        {
          "output_type": "execute_result",
          "data": {
            "text/plain": []
          },
          "metadata": {},
          "execution_count": 27
        }
      ]
    },
    {
      "cell_type": "markdown",
      "source": [
        "## Lex and Yacc combined"
      ],
      "metadata": {
        "id": "9g3qzHuCe9s1"
      }
    },
    {
      "cell_type": "code",
      "source": [
        "#@title Writing YACC program\n",
        "%%writefile program.y\n",
        "\n",
        "%{\n",
        "    #include<stdio.h>\n",
        "    #include<stdlib.h>\n",
        "%}\n",
        "%token DIGIT LETTER UND NL\n",
        "%%\n",
        "stmt: variable NL {printf(\"Valid Identifier\\n\");exit(0);}\n",
        "variable: LETTER alphanumeric;\n",
        "alphanumeric: LETTER alphanumeric\n",
        "            | DIGIT alphanumeric\n",
        "            | UND alphanumeric\n",
        "            | LETTER\n",
        "            | DIGIT\n",
        "            | UND;\n",
        "%%\n",
        "\n",
        "int yyerror(){\n",
        "    printf(\"Invalid Identifier\\n\");\n",
        "    exit(0);\n",
        "}\n",
        "\n",
        "void main(){\n",
        "    printf(\"Enter the variable name: \");\n",
        "    yyparse();\n",
        "}"
      ],
      "metadata": {
        "colab": {
          "base_uri": "https://localhost:8080/"
        },
        "id": "PR_WVl_3kvjz",
        "outputId": "a19ffcd6-84d8-4a15-f1fe-5dd124b35450"
      },
      "execution_count": null,
      "outputs": [
        {
          "output_type": "stream",
          "name": "stdout",
          "text": [
            "Overwriting program.y\n"
          ]
        }
      ]
    },
    {
      "cell_type": "code",
      "execution_count": null,
      "metadata": {
        "colab": {
          "base_uri": "https://localhost:8080/"
        },
        "outputId": "ae488aa8-96d1-4cab-c243-5097cc230c51",
        "id": "d_jqt4ajkllz"
      },
      "outputs": [
        {
          "output_type": "stream",
          "name": "stdout",
          "text": [
            "Overwriting program.l\n"
          ]
        }
      ],
      "source": [
        "#@title Writing Lex program\n",
        "%%writefile program.l\n",
        "\n",
        "%{\n",
        "    #include \"y.tab.h\"\n",
        "%}\n",
        "%%\n",
        "[a-zA-Z] {return LETTER;}\n",
        "[0-9] {return DIGIT;}\n",
        "[_] {return UND;}\n",
        "\\n {return NL;}\n",
        ". {return yytext[0];}\n",
        "%%"
      ]
    },
    {
      "cell_type": "markdown",
      "source": [
        "if you want to use at txt as an input"
      ],
      "metadata": {
        "id": "b0o39e7Ykll3"
      }
    },
    {
      "cell_type": "code",
      "source": [
        "%%writefile program.txt\n",
        "\n",
        "This is a sample file."
      ],
      "metadata": {
        "id": "vna5Qg34kll4"
      },
      "execution_count": null,
      "outputs": []
    },
    {
      "cell_type": "code",
      "source": [
        "#@title Shell Execution (you can rewrite the commands as per your need, eg. if you want to include a file as an input)\n",
        "%%shell\n",
        "\n",
        "yacc -d program.y\n",
        "lex program.l\n",
        "cc y.tab.c lex.yy.c -ll\n",
        "./a.out"
      ],
      "metadata": {
        "colab": {
          "base_uri": "https://localhost:8080/"
        },
        "outputId": "edd8a233-74c0-471c-fa30-f023ef7ff458",
        "id": "nqs9Nq64kll4"
      },
      "execution_count": null,
      "outputs": [
        {
          "output_type": "stream",
          "name": "stdout",
          "text": [
            "\u001b[01m\u001b[Ky.tab.c:\u001b[m\u001b[K In function ‘\u001b[01m\u001b[Kyyparse\u001b[m\u001b[K’:\n",
            "\u001b[01m\u001b[Ky.tab.c:1121:16:\u001b[m\u001b[K \u001b[01;35m\u001b[Kwarning: \u001b[m\u001b[Kimplicit declaration of function ‘\u001b[01m\u001b[Kyylex\u001b[m\u001b[K’ [\u001b[01;35m\u001b[K-Wimplicit-function-declaration\u001b[m\u001b[K]\n",
            "       yychar = \u001b[01;35m\u001b[Kyylex\u001b[m\u001b[K ();\n",
            "                \u001b[01;35m\u001b[K^~~~~\u001b[m\u001b[K\n",
            "\u001b[01m\u001b[Ky.tab.c:1256:7:\u001b[m\u001b[K \u001b[01;35m\u001b[Kwarning: \u001b[m\u001b[Kimplicit declaration of function ‘\u001b[01m\u001b[Kyyerror\u001b[m\u001b[K’; did you mean ‘\u001b[01m\u001b[Kyyerrok\u001b[m\u001b[K’? [\u001b[01;35m\u001b[K-Wimplicit-function-declaration\u001b[m\u001b[K]\n",
            "       \u001b[01;35m\u001b[Kyyerror\u001b[m\u001b[K (YY_(\"syntax error\"));\n",
            "       \u001b[01;35m\u001b[K^~~~~~~\u001b[m\u001b[K\n",
            "       \u001b[32m\u001b[Kyyerrok\u001b[m\u001b[K\n",
            "Enter the variable name: variable_name\n",
            "Valid Identifier\n"
          ]
        },
        {
          "output_type": "execute_result",
          "data": {
            "text/plain": []
          },
          "metadata": {},
          "execution_count": 21
        }
      ]
    },
    {
      "cell_type": "code",
      "source": [
        "lex_code = \"\"\"\n",
        "%{\n",
        "#include <stdio.h>\n",
        "#include <string.h>\n",
        "#include <stdlib.h>\n",
        "\n",
        "typedef struct {\n",
        "    char symbol[50];\n",
        "    char type[20];\n",
        "} SymbolTableEntry;\n",
        "\n",
        "SymbolTableEntry symtab[100];\n",
        "int count = 0;\n",
        "\n",
        "int isDuplicate(char *sym) {\n",
        "    for (int i = 0; i < count; i++) {\n",
        "        if (strcmp(symtab[i].symbol, sym) == 0) return 1;\n",
        "    }\n",
        "    return 0;\n",
        "}\n",
        "%}\n",
        "\n",
        "kw main|printf|scanf|if|for|while|do\n",
        "id [a-zA-Z_][a-zA-Z0-9_]*\n",
        "dt int|float|char|double\n",
        "D [0-9]+\n",
        "ops \"+\"|\"-\"|\"*\"|\"/\"\n",
        "cmp \">\"|\"<\"|\"==\"|\"<=\"|\">=\"\n",
        "as \"=\"\n",
        "sc \";\"\n",
        "header \"#include\"<[a-zA-Z_.]+>\n",
        "\n",
        "%%\n",
        "\n",
        "{header}   { printf(\"%s is a header file\\\\n\",yytext); }\n",
        "{dt}       { printf(\"%s is a datatype\\\\n\",yytext); }\n",
        "{ops}      { printf(\"%s is an arithmetic operator\\\\n\",yytext); }\n",
        "{cmp}      { printf(\"%s is a comparative operator\\\\n\",yytext); }\n",
        "{as}       { printf(\"%s is an assignment operator\\\\n\",yytext); }\n",
        "{D}        { printf(\"%s is a digit\\\\n\",yytext); }\n",
        "{sc}       { printf(\"%s is a semicolon\\\\n\",yytext); }\n",
        "{kw}\"(\"    { printf(\"%s is a library function\\\\n\",yytext); }\n",
        "\n",
        "{id}\"[\"{D}\"]\" {\n",
        "    printf(\"%s is an array\\\\n\", yytext);\n",
        "    if (!isDuplicate(yytext)) {\n",
        "        strcpy(symtab[count].symbol, yytext);\n",
        "        strcpy(symtab[count].type, \"array\");\n",
        "        count++;\n",
        "    }\n",
        "}\n",
        "\n",
        "{id} {\n",
        "    printf(\"%s is an identifier\\\\n\",yytext);\n",
        "    if (!isDuplicate(yytext)) {\n",
        "        strcpy(symtab[count].symbol, yytext);\n",
        "        strcpy(symtab[count].type, \"identifier\");\n",
        "        count++;\n",
        "    }\n",
        "}\n",
        "\n",
        "[a-zA-Z_][a-zA-Z0-9_]*\"(\"   { printf(\"%s is a user defined function\\\\n\",yytext); }\n",
        "\"{\"        { printf(\"This is an opening bracket\\\\n\"); }\n",
        "\"}\"        { printf(\"This is a closing bracket\\\\n\"); }\n",
        "\n",
        "%%\n",
        "\n",
        "int main(int argc, char *argv[]) {\n",
        "    if (argc < 2) {\n",
        "        printf(\"Usage: %s <input file>\\\\n\", argv[0]);\n",
        "        return 1;\n",
        "    }\n",
        "\n",
        "    FILE *fp = fopen(argv[1], \"r\");\n",
        "    if (!fp) {\n",
        "        perror(\"Cannot open input file\");\n",
        "        return 1;\n",
        "    }\n",
        "    yyin = fp;\n",
        "    yylex();\n",
        "    fclose(fp);\n",
        "\n",
        "    FILE *symfile = fopen(\"symtab_output.txt\", \"w\");\n",
        "    if (!symfile) {\n",
        "        perror(\"Cannot write symtab file\");\n",
        "        return 1;\n",
        "    }\n",
        "\n",
        "    fprintf(symfile, \"Symbol\\\\tType\\\\n\");\n",
        "    fprintf(symfile, \"-------------------\\\\n\");\n",
        "    for (int i = 0; i < count; i++) {\n",
        "        fprintf(symfile, \"%s\\\\t%s\\\\n\", symtab[i].symbol, symtab[i].type);\n",
        "    }\n",
        "    fclose(symfile);\n",
        "\n",
        "    return 0;\n",
        "}\n",
        "\n",
        "int yywrap() {\n",
        "    return 1;\n",
        "}\n",
        "\"\"\"\n",
        "\n",
        "with open(\"lexer.l\", \"w\") as f:\n",
        "    f.write(lex_code)\n"
      ],
      "metadata": {
        "id": "YwJE6OJbbVsn"
      },
      "execution_count": 1,
      "outputs": []
    },
    {
      "cell_type": "code",
      "source": [
        "!apt-get update\n",
        "!apt-get install -y flex bison\n"
      ],
      "metadata": {
        "id": "N2tPhvUJbjQr",
        "outputId": "34998edb-3273-494d-9206-076913f8662c",
        "colab": {
          "base_uri": "https://localhost:8080/"
        }
      },
      "execution_count": 4,
      "outputs": [
        {
          "output_type": "stream",
          "name": "stdout",
          "text": [
            "\r0% [Working]\r            \rGet:1 https://cloud.r-project.org/bin/linux/ubuntu jammy-cran40/ InRelease [3,632 B]\n",
            "\r0% [Connecting to archive.ubuntu.com (185.125.190.83)] [Connecting to security.\r0% [Connecting to archive.ubuntu.com (185.125.190.83)] [Connecting to security.\r                                                                               \rHit:2 https://developer.download.nvidia.com/compute/cuda/repos/ubuntu2204/x86_64  InRelease\n",
            "Get:3 https://cli.github.com/packages stable InRelease [3,917 B]\n",
            "Hit:4 http://archive.ubuntu.com/ubuntu jammy InRelease\n",
            "Get:5 https://cli.github.com/packages stable/main amd64 Packages [346 B]\n",
            "Get:6 http://security.ubuntu.com/ubuntu jammy-security InRelease [129 kB]\n",
            "Get:7 http://archive.ubuntu.com/ubuntu jammy-updates InRelease [128 kB]\n",
            "Get:8 https://r2u.stat.illinois.edu/ubuntu jammy InRelease [6,555 B]\n",
            "Get:9 https://r2u.stat.illinois.edu/ubuntu jammy/main amd64 Packages [2,807 kB]\n",
            "Hit:10 https://ppa.launchpadcontent.net/deadsnakes/ppa/ubuntu jammy InRelease\n",
            "Hit:11 https://ppa.launchpadcontent.net/graphics-drivers/ppa/ubuntu jammy InRelease\n",
            "Get:12 http://security.ubuntu.com/ubuntu jammy-security/restricted amd64 Packages [5,526 kB]\n",
            "Hit:13 https://ppa.launchpadcontent.net/ubuntugis/ppa/ubuntu jammy InRelease\n",
            "Get:14 http://archive.ubuntu.com/ubuntu jammy-backports InRelease [127 kB]\n",
            "Get:15 http://archive.ubuntu.com/ubuntu jammy-updates/main amd64 Packages [3,681 kB]\n",
            "Get:16 https://r2u.stat.illinois.edu/ubuntu jammy/main all Packages [9,305 kB]\n",
            "Get:17 http://security.ubuntu.com/ubuntu jammy-security/universe amd64 Packages [1,274 kB]\n",
            "Get:18 http://security.ubuntu.com/ubuntu jammy-security/main amd64 Packages [3,336 kB]\n",
            "Get:19 http://archive.ubuntu.com/ubuntu jammy-updates/restricted amd64 Packages [5,779 kB]\n",
            "Get:20 http://archive.ubuntu.com/ubuntu jammy-updates/universe amd64 Packages [1,577 kB]\n",
            "Fetched 33.7 MB in 5s (6,231 kB/s)\n",
            "Reading package lists... Done\n",
            "W: Skipping acquire of configured file 'main/source/Sources' as repository 'https://r2u.stat.illinois.edu/ubuntu jammy InRelease' does not seem to provide it (sources.list entry misspelt?)\n",
            "Reading package lists... Done\n",
            "Building dependency tree... Done\n",
            "Reading state information... Done\n",
            "The following additional packages will be installed:\n",
            "  libfl-dev libfl2\n",
            "Suggested packages:\n",
            "  bison-doc flex-doc\n",
            "The following NEW packages will be installed:\n",
            "  bison flex libfl-dev libfl2\n",
            "0 upgraded, 4 newly installed, 0 to remove and 47 not upgraded.\n",
            "Need to get 1,072 kB of archives.\n",
            "After this operation, 3,667 kB of additional disk space will be used.\n",
            "Get:1 http://archive.ubuntu.com/ubuntu jammy/main amd64 flex amd64 2.6.4-8build2 [307 kB]\n",
            "Get:2 http://archive.ubuntu.com/ubuntu jammy/main amd64 bison amd64 2:3.8.2+dfsg-1build1 [748 kB]\n",
            "Get:3 http://archive.ubuntu.com/ubuntu jammy/main amd64 libfl2 amd64 2.6.4-8build2 [10.7 kB]\n",
            "Get:4 http://archive.ubuntu.com/ubuntu jammy/main amd64 libfl-dev amd64 2.6.4-8build2 [6,236 B]\n",
            "Fetched 1,072 kB in 2s (488 kB/s)\n",
            "Selecting previously unselected package flex.\n",
            "(Reading database ... 126435 files and directories currently installed.)\n",
            "Preparing to unpack .../flex_2.6.4-8build2_amd64.deb ...\n",
            "Unpacking flex (2.6.4-8build2) ...\n",
            "Selecting previously unselected package bison.\n",
            "Preparing to unpack .../bison_2%3a3.8.2+dfsg-1build1_amd64.deb ...\n",
            "Unpacking bison (2:3.8.2+dfsg-1build1) ...\n",
            "Selecting previously unselected package libfl2:amd64.\n",
            "Preparing to unpack .../libfl2_2.6.4-8build2_amd64.deb ...\n",
            "Unpacking libfl2:amd64 (2.6.4-8build2) ...\n",
            "Selecting previously unselected package libfl-dev:amd64.\n",
            "Preparing to unpack .../libfl-dev_2.6.4-8build2_amd64.deb ...\n",
            "Unpacking libfl-dev:amd64 (2.6.4-8build2) ...\n",
            "Setting up flex (2.6.4-8build2) ...\n",
            "Setting up libfl2:amd64 (2.6.4-8build2) ...\n",
            "Setting up bison (2:3.8.2+dfsg-1build1) ...\n",
            "update-alternatives: using /usr/bin/bison.yacc to provide /usr/bin/yacc (yacc) in auto mode\n",
            "Setting up libfl-dev:amd64 (2.6.4-8build2) ...\n",
            "Processing triggers for man-db (2.10.2-1) ...\n",
            "Processing triggers for libc-bin (2.35-0ubuntu3.8) ...\n",
            "/sbin/ldconfig.real: /usr/local/lib/libhwloc.so.15 is not a symbolic link\n",
            "\n",
            "/sbin/ldconfig.real: /usr/local/lib/libtbbmalloc.so.2 is not a symbolic link\n",
            "\n",
            "/sbin/ldconfig.real: /usr/local/lib/libtbbbind_2_5.so.3 is not a symbolic link\n",
            "\n",
            "/sbin/ldconfig.real: /usr/local/lib/libtcm.so.1 is not a symbolic link\n",
            "\n",
            "/sbin/ldconfig.real: /usr/local/lib/libur_adapter_level_zero_v2.so.0 is not a symbolic link\n",
            "\n",
            "/sbin/ldconfig.real: /usr/local/lib/libur_loader.so.0 is not a symbolic link\n",
            "\n",
            "/sbin/ldconfig.real: /usr/local/lib/libumf.so.0 is not a symbolic link\n",
            "\n",
            "/sbin/ldconfig.real: /usr/local/lib/libtcm_debug.so.1 is not a symbolic link\n",
            "\n",
            "/sbin/ldconfig.real: /usr/local/lib/libur_adapter_opencl.so.0 is not a symbolic link\n",
            "\n",
            "/sbin/ldconfig.real: /usr/local/lib/libur_adapter_level_zero.so.0 is not a symbolic link\n",
            "\n",
            "/sbin/ldconfig.real: /usr/local/lib/libtbbmalloc_proxy.so.2 is not a symbolic link\n",
            "\n",
            "/sbin/ldconfig.real: /usr/local/lib/libtbbbind_2_0.so.3 is not a symbolic link\n",
            "\n",
            "/sbin/ldconfig.real: /usr/local/lib/libtbb.so.12 is not a symbolic link\n",
            "\n",
            "/sbin/ldconfig.real: /usr/local/lib/libtbbbind.so.3 is not a symbolic link\n",
            "\n"
          ]
        }
      ]
    },
    {
      "cell_type": "code",
      "source": [
        "!flex lexer.l"
      ],
      "metadata": {
        "id": "mb08oHlccIfi"
      },
      "execution_count": 5,
      "outputs": []
    },
    {
      "cell_type": "code",
      "source": [
        "!gcc lex.yy.c -lfl -o lexer"
      ],
      "metadata": {
        "id": "ZPq8Sn0DczyZ"
      },
      "execution_count": 6,
      "outputs": []
    },
    {
      "cell_type": "code",
      "source": [
        "!./lexer input.c"
      ],
      "metadata": {
        "id": "aZmHbpVPc4GQ",
        "outputId": "09671f6b-0b3d-4608-cf1d-d0b7062be0f2",
        "colab": {
          "base_uri": "https://localhost:8080/"
        }
      },
      "execution_count": 7,
      "outputs": [
        {
          "output_type": "stream",
          "name": "stdout",
          "text": [
            "#include<stdio.h> is a header file\n",
            "\r\n",
            "int is a datatype\n",
            " a is an identifier\n",
            ", b is an identifier\n",
            "; is a semicolon\n",
            "\r\n",
            "float is a datatype\n",
            " x is an identifier\n",
            "; is a semicolon\n",
            "\r\n",
            "char is a datatype\n",
            " arr[10] is an array\n",
            "; is a semicolon\n",
            "\r\n",
            "a is an identifier\n",
            " = is an assignment operator\n",
            " 5 is a digit\n",
            "; is a semicolon\n",
            "\r\n"
          ]
        }
      ]
    },
    {
      "cell_type": "code",
      "source": [],
      "metadata": {
        "id": "EeuSiFDdc-3e"
      },
      "execution_count": null,
      "outputs": []
    }
  ]
}